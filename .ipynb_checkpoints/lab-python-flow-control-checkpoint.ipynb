{
 "cells": [
  {
   "cell_type": "markdown",
   "id": "d3bfc191-8885-42ee-b0a0-bbab867c6f9f",
   "metadata": {
    "tags": []
   },
   "source": [
    "# Lab | Flow Control"
   ]
  },
  {
   "cell_type": "markdown",
   "id": "3851fcd1-cf98-4653-9c89-e003b7ec9400",
   "metadata": {},
   "source": [
    "## Exercise: Managing Customer Orders Optimized\n",
    "\n",
    "In the last lab, you were starting an online store that sells various products. To ensure smooth operations, you developed a program that manages customer orders and inventory.\n",
    "\n",
    "You did so without using flow control. Let's go a step further and improve this code.\n",
    "\n",
    "Follow the steps below to complete the exercise:\n",
    "\n",
    "1. Look at your code from the lab data structures, and improve repeated code with loops.\n",
    "\n",
    "2. Instead of asking the user to input the name of three products that a customer wants to order, do the following:\n",
    "    \n",
    "    a. Prompt the user to enter the name of a product that a customer wants to order.\n",
    "    \n",
    "    b. Add the product name to the \"customer_orders\" set.\n",
    "    \n",
    "    c. Ask the user if they want to add another product (yes/no).\n",
    "    \n",
    "    d. Continue the loop until the user does not want to add another product.\n",
    "\n",
    "3. Instead of updating the inventory by subtracting 1 from the quantity of each product, only do it for  the products that were ordered (those in \"customer_orders\")."
   ]
  },
  {
   "cell_type": "code",
   "execution_count": 57,
   "id": "cdaf8dcc-c4ab-4a93-a45c-30683d2078ee",
   "metadata": {},
   "outputs": [
    {
     "name": "stdin",
     "output_type": "stream",
     "text": [
      "Please enter the product quantity to store in the inventory for t-shirt:  6\n",
      "Please enter the product quantity to store in the inventory for mug:  8\n",
      "Please enter the product quantity to store in the inventory for hat:  9\n",
      "Please enter the product quantity to store in the inventory for book:  10\n",
      "Please enter the product quantity to store in the inventory for keychain:  5\n",
      "Please enter the name of a product you'd like to order hat\n"
     ]
    },
    {
     "name": "stdout",
     "output_type": "stream",
     "text": [
      "hat was added to your order.\n"
     ]
    },
    {
     "name": "stdin",
     "output_type": "stream",
     "text": [
      "Would you like to add an additional product to your order? (yes/no)  mug\n"
     ]
    },
    {
     "name": "stdout",
     "output_type": "stream",
     "text": [
      "Sorry, this is an invalid input. Please type 'yes' or 'no'.\n"
     ]
    },
    {
     "name": "stdin",
     "output_type": "stream",
     "text": [
      "Would you like to add an additional product to your order? (yes/no):  yes\n",
      "Please enter the name of a product you'd like to order mug\n"
     ]
    },
    {
     "name": "stdout",
     "output_type": "stream",
     "text": [
      "mug was added to your order.\n"
     ]
    },
    {
     "name": "stdin",
     "output_type": "stream",
     "text": [
      "Would you like to add an additional product to your order? (yes/no)  no\n"
     ]
    },
    {
     "name": "stdout",
     "output_type": "stream",
     "text": [
      "Thank you for your order!\n",
      "The current product orders is: {'hat', 'mug'}\n"
     ]
    }
   ],
   "source": [
    "#2\n",
    "inventory = {}\n",
    "products = [\"t-shirt\", \"mug\", \"hat\", \"book\", \"keychain\"]\n",
    "\n",
    "for i in products:\n",
    "    product_quantity = int(input(f\"Please enter the product quantity to store in the inventory for {i}: \"))\n",
    "    inventory[i] = product_quantity\n",
    "\n",
    "customer_orders = set()\n",
    "\n",
    "new_order = 'yes'\n",
    "    \n",
    "while new_order == 'yes':\n",
    "    product_order = input(\"Please enter the name of a product you'd like to order\").lower()\n",
    "    if product_order not in customer_orders:\n",
    "        customer_orders.add(product_order)\n",
    "        print(f\"{product_order} was added to your order.\")\n",
    "    else:\n",
    "        print(f\"You've already ordered {product_order}. Please choose a different product.\")\n",
    "    new_order = input(\"Would you like to add an additional product to your order? (yes/no) \").lower()\n",
    "    \n",
    "    while new_order != 'yes' and new_order != 'no':\n",
    "            print(\"Sorry, this is an invalid input. Please type 'yes' or 'no'.\")\n",
    "            new_order = input(\"Would you like to add an additional product to your order? (yes/no): \").lower()\n",
    "\n",
    "print('Thank you for your order!')\n",
    "print(f\"The current product orders is: {customer_orders}\")\n"
   ]
  },
  {
   "cell_type": "code",
   "execution_count": 59,
   "id": "c0f3ee44-4195-4ba7-9aa9-c52d400d852c",
   "metadata": {},
   "outputs": [
    {
     "name": "stdout",
     "output_type": "stream",
     "text": [
      "Original inventory: {'t-shirt': 6, 'mug': 8, 'hat': 9, 'book': 10, 'keychain': 5}\n",
      "Modified inventory: {'t-shirt': 6, 'mug': 7, 'hat': 8, 'book': 10, 'keychain': 5}\n"
     ]
    }
   ],
   "source": [
    "#3\n",
    "\n",
    "original_inventory = inventory.copy()\n",
    "\n",
    "for product in customer_orders:\n",
    "    inventory[product] -= 1\n",
    "    new_inventory = inventory\n",
    "\n",
    "print(\"Original inventory:\", original_inventory)\n",
    "print(\"Modified inventory:\", inventory)"
   ]
  },
  {
   "cell_type": "code",
   "execution_count": null,
   "id": "01552419-799a-4268-8c90-56fa51f959ac",
   "metadata": {},
   "outputs": [],
   "source": []
  }
 ],
 "metadata": {
  "kernelspec": {
   "display_name": "Python 3 (ipykernel)",
   "language": "python",
   "name": "python3"
  },
  "language_info": {
   "codemirror_mode": {
    "name": "ipython",
    "version": 3
   },
   "file_extension": ".py",
   "mimetype": "text/x-python",
   "name": "python",
   "nbconvert_exporter": "python",
   "pygments_lexer": "ipython3",
   "version": "3.12.7"
  }
 },
 "nbformat": 4,
 "nbformat_minor": 5
}
